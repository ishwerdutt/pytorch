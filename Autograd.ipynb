{
  "nbformat": 4,
  "nbformat_minor": 0,
  "metadata": {
    "colab": {
      "provenance": [],
      "authorship_tag": "ABX9TyOGyHmqpM6AiVZFfNOvgqsE",
      "include_colab_link": true
    },
    "kernelspec": {
      "name": "python3",
      "display_name": "Python 3"
    },
    "language_info": {
      "name": "python"
    }
  },
  "cells": [
    {
      "cell_type": "markdown",
      "metadata": {
        "id": "view-in-github",
        "colab_type": "text"
      },
      "source": [
        "<a href=\"https://colab.research.google.com/github/ishwerdutt/pytorch/blob/main/Autograd.ipynb\" target=\"_parent\"><img src=\"https://colab.research.google.com/assets/colab-badge.svg\" alt=\"Open In Colab\"/></a>"
      ]
    },
    {
      "cell_type": "code",
      "execution_count": null,
      "metadata": {
        "id": "n45CTdOy7iae"
      },
      "outputs": [],
      "source": [
        "import torch"
      ]
    },
    {
      "cell_type": "code",
      "source": [
        "print(torch.__version__)"
      ],
      "metadata": {
        "colab": {
          "base_uri": "https://localhost:8080/"
        },
        "id": "TBvmJ1SF9Bnr",
        "outputId": "d9f4205d-ab41-4788-e4e9-ff4434fc2367"
      },
      "execution_count": null,
      "outputs": [
        {
          "output_type": "stream",
          "name": "stdout",
          "text": [
            "2.5.1+cu124\n"
          ]
        }
      ]
    },
    {
      "cell_type": "code",
      "source": [
        "if torch.cuda.is_available():\n",
        "    print(\"CUDA is available\")\n",
        "else:\n",
        "    print(\"CUDA is not available\")"
      ],
      "metadata": {
        "colab": {
          "base_uri": "https://localhost:8080/"
        },
        "id": "MfZSbHBX9MUq",
        "outputId": "6bc8cde6-e013-4145-dd70-148265f60c8a"
      },
      "execution_count": null,
      "outputs": [
        {
          "output_type": "stream",
          "name": "stdout",
          "text": [
            "CUDA is not available\n"
          ]
        }
      ]
    },
    {
      "cell_type": "code",
      "source": [
        "x = torch.tensor(3.0, requires_grad=True)\n"
      ],
      "metadata": {
        "id": "rk4CQZVL9Pt0"
      },
      "execution_count": null,
      "outputs": []
    },
    {
      "cell_type": "code",
      "source": [
        "y = x*x"
      ],
      "metadata": {
        "id": "4vQo3AwC9SCB"
      },
      "execution_count": null,
      "outputs": []
    },
    {
      "cell_type": "code",
      "source": [
        "y"
      ],
      "metadata": {
        "colab": {
          "base_uri": "https://localhost:8080/"
        },
        "id": "EjaO-jwJ9WO6",
        "outputId": "13157929-02ab-409e-a36e-c9373581c974"
      },
      "execution_count": null,
      "outputs": [
        {
          "output_type": "execute_result",
          "data": {
            "text/plain": [
              "tensor(9., grad_fn=<MulBackward0>)"
            ]
          },
          "metadata": {},
          "execution_count": 7
        }
      ]
    },
    {
      "cell_type": "code",
      "source": [
        "\n",
        "import math\n",
        "def dy_dx(x):\n",
        "  dy_dx = 2*x\n",
        "  return dy_dx"
      ],
      "metadata": {
        "id": "rPGEoD5T9YEc"
      },
      "execution_count": null,
      "outputs": []
    },
    {
      "cell_type": "code",
      "source": [
        "dy_dx(x)"
      ],
      "metadata": {
        "colab": {
          "base_uri": "https://localhost:8080/"
        },
        "id": "M4E2vQls9pZf",
        "outputId": "19666b40-273d-4ee6-8621-7667b8fb67a9"
      },
      "execution_count": null,
      "outputs": [
        {
          "output_type": "execute_result",
          "data": {
            "text/plain": [
              "tensor(6., grad_fn=<MulBackward0>)"
            ]
          },
          "metadata": {},
          "execution_count": 9
        }
      ]
    },
    {
      "cell_type": "code",
      "source": [
        "y.backward()"
      ],
      "metadata": {
        "id": "DoQLku1S9sDD"
      },
      "execution_count": null,
      "outputs": []
    },
    {
      "cell_type": "code",
      "source": [
        "x.grad"
      ],
      "metadata": {
        "colab": {
          "base_uri": "https://localhost:8080/"
        },
        "id": "Mb2uvF3w9wO1",
        "outputId": "d440fd4a-e9d9-4f79-e0e6-55b8d5b66501"
      },
      "execution_count": null,
      "outputs": [
        {
          "output_type": "execute_result",
          "data": {
            "text/plain": [
              "tensor(6.)"
            ]
          },
          "metadata": {},
          "execution_count": 12
        }
      ]
    },
    {
      "cell_type": "markdown",
      "source": [
        "Steps during training\n",
        "1. Forward pass:- calculation of output *w.x + b*\n",
        "2. backward pass:- calulation of error\n",
        "loss function let's say f(x);\n",
        " f(x) = y_pred - y\n",
        " df/dw = d/dw * (y_pred - y)\n",
        "\n",
        "3. In the above step we need to calculate the derivatives.\n",
        "And then we need to update weight and biases based on the gradient descent algorithm.\n",
        "4. w_new = w_old - dl/dw\n",
        "where L is the loss function based upon the task/algorithm used\n",
        "\n",
        "\n",
        "\n"
      ],
      "metadata": {
        "id": "-FfZVzsJmWs8"
      }
    },
    {
      "cell_type": "markdown",
      "source": [
        "# Examples"
      ],
      "metadata": {
        "id": "KVMwglNZn_5y"
      }
    },
    {
      "cell_type": "code",
      "source": [
        "import torch as t\n",
        "print(t.__version__)"
      ],
      "metadata": {
        "id": "OnFx8dDp9yRS",
        "colab": {
          "base_uri": "https://localhost:8080/"
        },
        "outputId": "579ec194-84ca-4f77-d9a1-99e8bbdd3a61"
      },
      "execution_count": 1,
      "outputs": [
        {
          "output_type": "stream",
          "name": "stdout",
          "text": [
            "2.5.1+cu124\n"
          ]
        }
      ]
    },
    {
      "cell_type": "code",
      "source": [
        "## define some random function\n",
        "t.manual_seed(42)\n",
        "a =t.rand((2, 3), requires_grad=True)\n",
        "b = t.rand((2, 3), requires_grad=True)"
      ],
      "metadata": {
        "id": "f4pldQGBruY3"
      },
      "execution_count": 16,
      "outputs": []
    },
    {
      "cell_type": "code",
      "source": [
        "a, b"
      ],
      "metadata": {
        "colab": {
          "base_uri": "https://localhost:8080/"
        },
        "id": "htEpHyvYr67b",
        "outputId": "bda9251b-5121-436f-bab2-6f5c1ada0614"
      },
      "execution_count": 7,
      "outputs": [
        {
          "output_type": "execute_result",
          "data": {
            "text/plain": [
              "(tensor([[0.8823, 0.9150, 0.3829],\n",
              "         [0.9593, 0.3904, 0.6009]]),\n",
              " tensor([[0.2566, 0.7936, 0.9408],\n",
              "         [0.1332, 0.9346, 0.5936]]))"
            ]
          },
          "metadata": {},
          "execution_count": 7
        }
      ]
    },
    {
      "cell_type": "code",
      "source": [
        "f_x = 3*a**3 - 5*b**2"
      ],
      "metadata": {
        "id": "uu1Auss5r8WX"
      },
      "execution_count": 21,
      "outputs": []
    },
    {
      "cell_type": "code",
      "source": [
        "f_x"
      ],
      "metadata": {
        "colab": {
          "base_uri": "https://localhost:8080/"
        },
        "id": "zZS8diItsKuF",
        "outputId": "2a6cea92-269b-4e29-a97b-5c42fe664b84"
      },
      "execution_count": 22,
      "outputs": [
        {
          "output_type": "execute_result",
          "data": {
            "text/plain": [
              "tensor([[ 1.7311, -0.8511, -4.2569],\n",
              "        [ 2.5598, -4.1888, -1.1108]], grad_fn=<SubBackward0>)"
            ]
          },
          "metadata": {},
          "execution_count": 22
        }
      ]
    },
    {
      "cell_type": "markdown",
      "source": [
        "## derivative with respect to a\n"
      ],
      "metadata": {
        "id": "g9ysGJh5srhK"
      }
    },
    {
      "cell_type": "code",
      "source": [
        "d_f_d_a = 9*a**2"
      ],
      "metadata": {
        "id": "GVOCQ-WMsLqU"
      },
      "execution_count": 23,
      "outputs": []
    },
    {
      "cell_type": "code",
      "source": [
        "d_f_d_a"
      ],
      "metadata": {
        "colab": {
          "base_uri": "https://localhost:8080/"
        },
        "id": "87w9pZXasjUP",
        "outputId": "f7d47a60-9f11-4fa4-be81-64111d13bd16"
      },
      "execution_count": 24,
      "outputs": [
        {
          "output_type": "execute_result",
          "data": {
            "text/plain": [
              "tensor([[7.0056, 7.5351, 1.3193],\n",
              "        [8.2824, 1.3720, 3.2497]], grad_fn=<MulBackward0>)"
            ]
          },
          "metadata": {},
          "execution_count": 24
        }
      ]
    },
    {
      "cell_type": "code",
      "source": [],
      "metadata": {
        "id": "AIVrbUs4smG4"
      },
      "execution_count": 24,
      "outputs": []
    },
    {
      "cell_type": "markdown",
      "source": [
        "## derivative with respect to b"
      ],
      "metadata": {
        "id": "8JF_wYEtsv8I"
      }
    },
    {
      "cell_type": "code",
      "source": [
        "df_db = -10*b"
      ],
      "metadata": {
        "id": "Ajmpd6z_sy-P"
      },
      "execution_count": 25,
      "outputs": []
    },
    {
      "cell_type": "code",
      "source": [
        "df_db"
      ],
      "metadata": {
        "colab": {
          "base_uri": "https://localhost:8080/"
        },
        "id": "ZklHlDvSs2nw",
        "outputId": "36c4120d-9870-461f-b31e-06c3ff9b0124"
      },
      "execution_count": 26,
      "outputs": [
        {
          "output_type": "execute_result",
          "data": {
            "text/plain": [
              "tensor([[-2.5657, -7.9364, -9.4077],\n",
              "        [-1.3319, -9.3460, -5.9358]], grad_fn=<MulBackward0>)"
            ]
          },
          "metadata": {},
          "execution_count": 26
        }
      ]
    },
    {
      "cell_type": "code",
      "source": [],
      "metadata": {
        "id": "X6T2ImIVtcex"
      },
      "execution_count": 26,
      "outputs": []
    },
    {
      "cell_type": "code",
      "source": [
        "external_grad = t.tensor([[1., 1., 1.], [1., 1., 1.]], requires_grad=True)\n",
        "f_x.backward(external_grad)"
      ],
      "metadata": {
        "id": "xmMTsWc5s3Z1"
      },
      "execution_count": 27,
      "outputs": []
    },
    {
      "cell_type": "code",
      "source": [
        "a.grad"
      ],
      "metadata": {
        "colab": {
          "base_uri": "https://localhost:8080/"
        },
        "id": "E_lyiNYVt3hG",
        "outputId": "91b64f04-585d-4ef1-b4c5-117c071a5328"
      },
      "execution_count": 30,
      "outputs": [
        {
          "output_type": "execute_result",
          "data": {
            "text/plain": [
              "tensor([[7.0056, 7.5351, 1.3193],\n",
              "        [8.2824, 1.3720, 3.2497]])"
            ]
          },
          "metadata": {},
          "execution_count": 30
        }
      ]
    },
    {
      "cell_type": "code",
      "source": [
        "b.grad"
      ],
      "metadata": {
        "colab": {
          "base_uri": "https://localhost:8080/"
        },
        "id": "0FV9XCZGuFuX",
        "outputId": "7697e474-217d-4423-a83c-dd6b51fb7035"
      },
      "execution_count": 31,
      "outputs": [
        {
          "output_type": "execute_result",
          "data": {
            "text/plain": [
              "tensor([[-2.5657, -7.9364, -9.4077],\n",
              "        [-1.3319, -9.3460, -5.9358]])"
            ]
          },
          "metadata": {},
          "execution_count": 31
        }
      ]
    },
    {
      "cell_type": "code",
      "source": [],
      "metadata": {
        "id": "A2F0QUN8uPIa"
      },
      "execution_count": null,
      "outputs": []
    }
  ]
}